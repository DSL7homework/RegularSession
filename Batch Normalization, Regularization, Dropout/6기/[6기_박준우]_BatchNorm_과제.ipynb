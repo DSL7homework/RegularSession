{
  "cells": [
    {
      "cell_type": "markdown",
      "id": "5c549bcc",
      "metadata": {
        "id": "5c549bcc"
      },
      "source": [
        "### 데이터 불러오기"
      ]
    },
    {
      "cell_type": "code",
      "execution_count": 1,
      "id": "20d101d0",
      "metadata": {
        "ExecuteTime": {
          "end_time": "2022-02-22T07:01:07.679489Z",
          "start_time": "2022-02-22T07:01:05.730698Z"
        },
        "id": "20d101d0"
      },
      "outputs": [],
      "source": [
        "import torch\n",
        "import torchvision\n",
        "import torchvision.transforms as transforms"
      ]
    },
    {
      "cell_type": "code",
      "execution_count": 23,
      "id": "62dbb2f1",
      "metadata": {
        "ExecuteTime": {
          "end_time": "2022-02-22T07:07:57.744568Z",
          "start_time": "2022-02-22T07:07:57.083336Z"
        },
        "colab": {
          "base_uri": "https://localhost:8080/"
        },
        "id": "62dbb2f1",
        "outputId": "da816168-70b5-4c4e-b83d-b7f4784d0d2e"
      },
      "outputs": [
        {
          "output_type": "stream",
          "name": "stdout",
          "text": [
            "Files already downloaded and verified\n",
            "Files already downloaded and verified\n"
          ]
        }
      ],
      "source": [
        "transform = transforms.Compose(\n",
        "    [transforms.ToTensor(),\n",
        "     transforms.Normalize((0.5, 0.5, 0.5), (0.5, 0.5, 0.5))])\n",
        "\n",
        "batch_size = 2048\n",
        "\n",
        "trainset = torchvision.datasets.CIFAR10(root='./data', train=True,\n",
        "                                        download=True, transform=transform)\n",
        "trainloader = torch.utils.data.DataLoader(trainset, batch_size=batch_size,\n",
        "                                          shuffle=True, num_workers=2)\n",
        "\n",
        "testset = torchvision.datasets.CIFAR10(root='./data', train=False,\n",
        "                                       download=True, transform=transform)\n",
        "testloader = torch.utils.data.DataLoader(testset, batch_size=batch_size,\n",
        "                                         shuffle=False, num_workers=2)\n",
        "\n",
        "classes = ('plane', 'car', 'bird', 'cat',\n",
        "           'deer', 'dog', 'frog', 'horse', 'ship', 'truck')"
      ]
    },
    {
      "cell_type": "markdown",
      "source": [
        "### 데이터 일부 확인"
      ],
      "metadata": {
        "id": "YQTUDNzNVU-v"
      },
      "id": "YQTUDNzNVU-v"
    },
    {
      "cell_type": "code",
      "execution_count": 24,
      "id": "88fbcc79",
      "metadata": {
        "colab": {
          "base_uri": "https://localhost:8080/"
        },
        "id": "88fbcc79",
        "outputId": "0fd16dda-687e-4d0c-c330-fc28599db5bf"
      },
      "outputs": [
        {
          "output_type": "stream",
          "name": "stdout",
          "text": [
            "bird  horse ship  car   cat   plane dog   cat   dog   bird  cat   frog  dog   cat   dog   deer  deer  deer  truck truck truck plane frog  horse dog   cat   ship  bird  frog  plane cat   frog  bird  dog   cat   ship  car   bird  cat   frog  cat   deer  bird  car   horse horse plane dog   dog   truck truck car   horse bird  dog   deer  car   plane dog   plane frog  car   car   car   ship  dog   frog  horse deer  plane ship  frog  bird  cat   frog  cat   dog   car   truck dog   dog   frog  ship  dog   dog   bird  dog   frog  cat   frog  frog  car   truck horse horse ship  frog  horse ship  plane car   frog  cat   truck frog  horse frog  dog   horse truck car   horse ship  bird  ship  car   car   horse deer  car   deer  dog   dog   plane truck frog  frog  dog   ship  truck deer  frog  dog   cat   truck dog   dog   car   bird  plane ship  frog  truck frog  frog  horse plane truck dog   cat   dog   frog  plane cat   cat   frog  horse deer  deer  plane ship  plane truck deer  car   dog   car   horse plane horse dog   frog  cat   deer  bird  frog  ship  frog  horse cat   ship  car   horse plane bird  ship  plane plane horse deer  car   cat   ship  bird  cat   deer  frog  deer  deer  car   bird  bird  plane frog  dog   truck frog  plane frog  ship  frog  deer  frog  ship  cat   bird  horse ship  frog  horse cat   plane deer  cat   truck dog   ship  horse ship  frog  horse cat   ship  bird  dog   frog  car   plane ship  truck truck ship  deer  plane truck truck deer  horse horse horse truck frog  plane frog  ship  ship  car   truck deer  dog   dog   horse truck truck dog   deer  truck frog  deer  car   bird  ship  bird  dog   bird  ship  deer  cat   car   bird  deer  ship  truck bird  cat   truck car   bird  cat   ship  cat   plane frog  bird  cat   car   dog   plane horse deer  cat   car   ship  car   deer  dog   frog  horse ship  truck bird  plane dog   frog  dog   truck frog  truck bird  dog   ship  frog  ship  frog  plane bird  ship  deer  frog  dog   cat   deer  cat   dog   cat   plane cat   truck bird  frog  ship  ship  frog  dog   truck ship  cat   deer  car   cat   cat   horse plane horse plane horse frog  plane horse truck car   cat   dog   car   car   bird  dog   horse ship  dog   frog  cat   deer  plane cat   cat   cat   horse car   bird  ship  truck frog  frog  plane ship  cat   bird  dog   truck truck cat   plane plane plane car   frog  car   cat   car   plane deer  bird  car   plane car   deer  cat   ship  ship  horse car   plane horse plane car   frog  deer  truck cat   bird  bird  car   deer  plane bird  bird  car   deer  ship  cat   plane dog   frog  car   plane dog   ship  ship  car   bird  frog  frog  deer  truck car   ship  ship  truck car   ship  cat   bird  bird  cat   truck horse bird  car   car   frog  truck deer  frog  car   horse truck car   frog  deer  deer  horse frog  deer  car   plane ship  car   dog   car   bird  ship  car   bird  horse dog   deer  horse horse bird  bird  cat   truck ship  frog  dog   deer  truck ship  bird  dog   plane truck ship  truck deer  plane ship  deer  cat   deer  frog  car   car   cat   ship  deer  deer  deer  deer  dog   ship  deer  bird  horse truck frog  ship  plane horse deer  dog   car   ship  bird  bird  cat   cat   deer  dog   frog  ship  plane plane cat   bird  ship  cat   plane car   ship  car   horse cat   cat   frog  cat   frog  cat   truck frog  ship  truck horse deer  truck ship  car   dog   truck ship  cat   car   truck cat   dog   horse deer  cat   ship  dog   ship  bird  plane car   horse plane dog   dog   horse horse car   bird  deer  car   bird  ship  car   deer  truck cat   plane ship  truck frog  ship  deer  horse dog   truck truck ship  car   car   ship  ship  ship  car   frog  frog  cat   bird  horse bird  truck truck truck horse truck ship  car   dog   ship  cat   frog  plane bird  deer  horse ship  cat   dog   plane truck dog   bird  frog  ship  cat   bird  bird  bird  car   ship  plane truck bird  truck truck bird  bird  dog   horse truck horse plane ship  plane ship  bird  cat   horse bird  dog   dog   dog   deer  cat   cat   car   truck dog   deer  deer  frog  ship  ship  car   dog   frog  car   deer  horse deer  deer  ship  car   plane horse frog  plane frog  horse truck bird  plane truck bird  ship  deer  cat   dog   car   ship  plane dog   car   truck horse bird  dog   truck plane ship  horse frog  horse car   car   bird  truck deer  frog  dog   deer  deer  bird  dog   car   plane deer  car   truck plane bird  dog   car   frog  cat   cat   cat   horse frog  bird  ship  ship  deer  cat   ship  dog   cat   horse dog   cat   ship  plane cat   bird  cat   ship  bird  dog   dog   cat   dog   frog  cat   plane ship  frog  plane frog  plane horse ship  truck frog  bird  truck horse truck bird  bird  truck deer  bird  frog  horse deer  truck car   ship  car   car   horse car   bird  horse ship  truck car   car   bird  car   car   truck cat   ship  frog  deer  truck horse truck truck horse horse deer  bird  frog  cat   truck cat   bird  plane cat   cat   horse frog  car   truck truck dog   dog   cat   truck plane plane truck car   cat   car   frog  truck bird  cat   dog   car   cat   horse plane ship  plane ship  dog   dog   car   horse ship  plane truck deer  frog  frog  bird  ship  deer  car   deer  cat   dog   frog  plane truck cat   deer  ship  deer  bird  deer  bird  horse truck bird  frog  frog  frog  plane dog   dog   bird  cat   car   bird  dog   cat   dog   deer  horse dog   horse horse ship  deer  horse bird  dog   plane dog   bird  deer  deer  car   frog  frog  dog   plane frog  horse dog   truck horse cat   dog   plane frog  horse cat   deer  frog  deer  plane deer  bird  truck bird  dog   dog   cat   frog  deer  ship  frog  frog  deer  frog  car   plane frog  bird  horse truck deer  dog   ship  truck deer  car   dog   plane horse deer  bird  deer  horse deer  bird  ship  plane plane dog   car   ship  bird  dog   bird  car   plane ship  horse deer  car   plane ship  cat   car   horse frog  truck truck frog  plane deer  car   truck cat   bird  bird  car   car   truck bird  horse deer  plane cat   ship  frog  car   bird  bird  cat   car   dog   cat   horse plane plane horse bird  bird  deer  ship  cat   truck car   dog   car   dog   cat   ship  horse horse horse horse bird  cat   plane bird  bird  deer  plane plane frog  plane dog   frog  cat   bird  truck frog  truck cat   car   deer  plane horse car   bird  deer  cat   ship  car   dog   car   car   truck deer  horse horse plane plane frog  cat   plane ship  ship  plane bird  horse car   bird  cat   truck ship  car   car   dog   plane deer  ship  truck frog  horse bird  car   car   ship  truck bird  frog  horse plane ship  truck car   frog  deer  cat   car   dog   horse car   horse frog  truck ship  deer  dog   bird  frog  horse cat   deer  plane frog  horse plane deer  frog  car   ship  truck plane deer  frog  ship  bird  frog  bird  horse ship  truck horse cat   dog   cat   frog  ship  cat   dog   bird  car   bird  horse ship  car   ship  ship  ship  frog  dog   cat   plane cat   ship  dog   cat   dog   truck frog  bird  deer  ship  deer  car   dog   cat   car   plane bird  ship  dog   car   deer  deer  ship  ship  car   dog   frog  bird  frog  deer  horse horse deer  truck truck ship  bird  horse truck car   ship  cat   horse cat   car   cat   horse car   plane bird  truck cat   frog  truck cat   deer  frog  ship  cat   horse deer  bird  frog  deer  truck dog   horse car   cat   bird  truck frog  plane frog  truck bird  frog  dog   bird  ship  ship  truck ship  frog  frog  dog   frog  plane dog   dog   car   car   truck ship  ship  deer  truck truck truck plane deer  horse frog  cat   truck deer  horse deer  frog  truck cat   dog   truck truck truck truck cat   cat   cat   ship  ship  plane cat   truck plane cat   truck truck deer  deer  truck truck ship  truck plane frog  deer  plane car   cat   car   frog  bird  plane ship  ship  frog  horse bird  truck dog   deer  plane truck truck plane frog  truck bird  dog   frog  cat   truck cat   ship  bird  truck deer  deer  truck plane bird  frog  dog   ship  horse horse bird  plane bird  cat   bird  plane frog  truck horse horse dog   cat   cat   horse horse plane bird  bird  bird  bird  ship  horse cat   bird  truck dog   truck ship  dog   dog   horse cat   frog  plane frog  deer  truck deer  dog   frog  dog   cat   truck deer  plane deer  ship  car   cat   bird  ship  frog  cat   deer  truck horse bird  plane frog  truck bird  horse plane plane truck bird  frog  bird  plane dog   ship  car   horse bird  plane cat   dog   frog  dog   truck frog  bird  plane truck truck ship  ship  truck truck horse cat   dog   truck frog  ship  dog   ship  horse frog  dog   cat   plane truck dog   cat   frog  dog   dog   dog   plane plane cat   bird  truck frog  dog   bird  cat   horse car   dog   car   deer  deer  horse car   deer  plane deer  deer  deer  car   frog  frog  car   ship  frog  bird  horse cat   bird  truck ship  ship  dog   cat   deer  deer  deer  dog   car   truck horse cat   dog   plane ship  ship  ship  dog   deer  dog   cat   car   car   truck deer  car   deer  dog   frog  plane cat   bird  plane plane car   cat   plane plane car   dog   horse deer  cat   dog   truck horse truck bird  bird  bird  frog  horse deer  bird  truck plane dog   frog  cat   cat   horse car   dog   cat   deer  truck deer  dog   car   dog   ship  dog   car   frog  truck cat   ship  bird  plane dog   bird  frog  plane dog   car   ship  cat   frog  deer  deer  frog  deer  deer  ship  cat   cat   bird  bird  plane ship  ship  cat   bird  bird  ship  truck truck dog   cat   deer  car   ship  car   bird  bird  bird  ship  dog   cat   deer  plane frog  deer  plane deer  cat   car   frog  deer  plane ship  horse car   ship  cat   frog  deer  car   cat   car   horse frog  car   dog   frog  car   truck bird  cat   frog  ship  deer  cat   cat   plane plane ship  horse dog   truck dog   car   bird  ship  dog   truck plane cat   plane horse plane plane horse deer  ship  truck truck plane plane frog  deer  bird  horse truck dog   car   frog  bird  deer  car   bird  car   deer  car   plane bird  car   bird  deer  dog   dog   bird  dog   horse car   horse horse frog  ship  car   truck dog   dog   ship  truck truck bird  car   deer  horse deer  plane ship  truck cat   dog   ship  car   plane car   deer  deer  truck truck plane bird  bird  horse bird  ship  ship  car   truck car   deer  car   dog   cat   bird  ship  plane dog   bird  horse truck frog  truck bird  ship  plane horse bird  car   ship  ship  bird  ship  deer  deer  cat   car   truck plane deer  bird  car   truck cat   bird  bird  horse horse bird  horse cat   horse deer  car   plane deer  frog  horse dog   horse car   dog   bird  horse horse plane ship  cat   ship  car   bird  dog   plane ship  deer  plane horse car   cat   ship  frog  dog   cat   bird  deer  cat   cat   car   cat   plane cat   plane truck horse plane cat   ship  car   bird  dog   truck dog   plane horse plane plane deer  ship  bird  frog  plane frog  deer  car   cat   dog   frog  deer  ship  plane truck dog   horse horse deer  truck plane plane car   truck plane frog  horse bird  bird  cat   ship  dog   dog   plane truck cat   horse frog  car   bird  horse plane bird  dog   frog  cat   car   plane car   dog   ship  bird  plane ship  car   deer  deer  dog   dog   frog  car   horse ship  car   deer  truck cat   cat   frog  ship  frog  dog   truck horse bird  bird  frog  bird  cat   bird  truck bird  plane deer  dog   deer  ship  car   cat   cat   dog   plane truck dog   plane cat   truck ship  truck frog  truck plane car   car   plane truck car   cat   cat   cat   truck truck dog   ship  car   plane cat   plane frog  frog  frog  cat   frog  ship  ship  horse bird  dog   cat   horse cat   frog  ship  deer  frog  deer  bird  cat   horse horse truck frog  truck bird  ship  horse ship  ship  cat   dog   ship  truck dog   bird  plane dog   plane ship  frog  dog   cat   ship  car   bird  dog   frog  car   dog   plane deer  ship  horse cat   plane bird  deer  frog  dog   cat   frog  car   dog   plane car   car   plane truck ship  truck frog  cat   bird  dog   truck horse dog   ship  plane truck deer  car   cat   horse dog   ship  ship  plane plane ship  plane plane plane ship  ship  frog  truck\n"
          ]
        }
      ],
      "source": [
        "import matplotlib.pyplot as plt\n",
        "import numpy as np\n",
        "\n",
        "# 이미지를 보여주기 위한 함수\n",
        "\n",
        "def imshow(img):\n",
        "    img = img / 2 + 0.5     # unnormalize\n",
        "    npimg = img.numpy()\n",
        "    plt.imshow(np.transpose(npimg, (1, 2, 0)))\n",
        "    plt.show()\n",
        "\n",
        "\n",
        "# 학습용 이미지를 무작위로 가져오기\n",
        "dataiter = iter(trainloader)\n",
        "images, labels = dataiter.next()\n",
        "\n",
        "# 이미지 보여주기\n",
        "# imshow(torchvision.utils.make_grid(images))\n",
        "# 정답(label) 출력\n",
        "print(' '.join(f'{classes[labels[j]]:5s}' for j in range(batch_size)))"
      ]
    },
    {
      "cell_type": "markdown",
      "source": [
        "## 모델 정의\n",
        "이후부터 과제 진행하시면 됩니다! 위는 수정 XX\n",
        "\n",
        "'#####으로 표시된 부분에 작성하세요!"
      ],
      "metadata": {
        "id": "z1nHmbItUeuj"
      },
      "id": "z1nHmbItUeuj"
    },
    {
      "cell_type": "code",
      "source": [
        "import torch.nn as nn"
      ],
      "metadata": {
        "id": "U1einm98UZyY"
      },
      "id": "U1einm98UZyY",
      "execution_count": 25,
      "outputs": []
    },
    {
      "cell_type": "code",
      "source": [
        "trainset.data.shape"
      ],
      "metadata": {
        "colab": {
          "base_uri": "https://localhost:8080/"
        },
        "id": "kMU-yyLdqABs",
        "outputId": "02e23b1f-02fd-4e32-b9b4-05f41d6979f8"
      },
      "id": "kMU-yyLdqABs",
      "execution_count": 26,
      "outputs": [
        {
          "output_type": "execute_result",
          "data": {
            "text/plain": [
              "(50000, 32, 32, 3)"
            ]
          },
          "metadata": {},
          "execution_count": 26
        }
      ]
    },
    {
      "cell_type": "code",
      "source": [
        "class Net(nn.Module):\n",
        "    def __init__(self):\n",
        "        super().__init__()\n",
        "        self.layer = nn.Sequential(\n",
        "            nn.Conv2d(in_channels=3, out_channels=16, kernel_size=3, ),           # -> batch, 16, 30, 30\n",
        "            nn.BatchNorm2d(16),\n",
        "            nn.ReLU(),\n",
        "            nn.Dropout2d(0.2),\n",
        "            nn.Conv2d(in_channels=16, out_channels=32, kernel_size=3),          # -> batch, 32, 28, 28\n",
        "            nn.BatchNorm2d(32),\n",
        "            nn.ReLU(),\n",
        "            nn.Dropout2d(0.2),\n",
        "            nn.Conv2d(in_channels=32, out_channels=64, kernel_size=3),          # -> batch, 64, 26, 26\n",
        "            nn.BatchNorm2d(64),\n",
        "            nn.ReLU(),\n",
        "            nn.Dropout2d(0.2),\n",
        "            nn.MaxPool2d(kernel_size=2,stride=2),                                # -> batch, 64, 13, 13\n",
        "\n",
        "            nn.Conv2d(in_channels=64, out_channels=64, kernel_size=2),           # -> batch, 64, 12, 12\n",
        "            nn.BatchNorm2d(64),\n",
        "            nn.ReLU(),\n",
        "            nn.Dropout2d(0.2),\n",
        "            nn.Conv2d(in_channels=64, out_channels=64, kernel_size=2),          # -> batch, 64, 11, 11\n",
        "            nn.BatchNorm2d(64),\n",
        "            nn.ReLU(),\n",
        "            nn.Dropout2d(0.2),\n",
        "            nn.Conv2d(in_channels=64, out_channels=64, kernel_size=2),          # -> batch, 64, 10, 10\n",
        "            nn.BatchNorm2d(64),\n",
        "            nn.ReLU(),\n",
        "            nn.Dropout2d(0.2),\n",
        "        )\n",
        "        self.fc_layer = nn.Sequential(                                          \n",
        "            nn.Linear(64*10*10,300),                                            \n",
        "            nn.ReLU(),\n",
        "            nn.Linear(300,10)                                                \n",
        "        )  \n",
        "\n",
        "\n",
        "    def forward(self, x):\n",
        "        out = self.layer(x)\n",
        "        out = out.view(out.size(0), -1)\n",
        "        out = self.fc_layer(out)\n",
        "\n",
        "        return out\n",
        "\n",
        "\n",
        "net = Net()"
      ],
      "metadata": {
        "id": "GDMWeqWKUkoZ"
      },
      "id": "GDMWeqWKUkoZ",
      "execution_count": 33,
      "outputs": []
    },
    {
      "cell_type": "code",
      "source": [
        "use_cuda = True\n",
        "if use_cuda and torch.cuda.is_available():\n",
        "    net.cuda()"
      ],
      "metadata": {
        "id": "dUKw__NnzLdw"
      },
      "id": "dUKw__NnzLdw",
      "execution_count": 34,
      "outputs": []
    },
    {
      "cell_type": "code",
      "source": [
        "torch.cuda.is_available()"
      ],
      "metadata": {
        "colab": {
          "base_uri": "https://localhost:8080/"
        },
        "id": "otA_mWml1Ygq",
        "outputId": "3ae779ba-b525-4442-f96d-a98633fe2819"
      },
      "id": "otA_mWml1Ygq",
      "execution_count": 35,
      "outputs": [
        {
          "output_type": "execute_result",
          "data": {
            "text/plain": [
              "True"
            ]
          },
          "metadata": {},
          "execution_count": 35
        }
      ]
    },
    {
      "cell_type": "markdown",
      "source": [
        "## 손실함수, optimizer 정의\n",
        "필요한 모듈을 import하고 손실함수는 CrossEntropyLoss, optimizer는 SGD를 사용해주세요.\n",
        "\n",
        "optimizer의 하이퍼파라미터는 lr=0.001, momentum=0.9로 통일합니다.\n",
        "\n",
        "작성한 모델이 무거워 실행 시간이 오래 걸린다면 GPU를 활용하세요."
      ],
      "metadata": {
        "id": "IvnxCSuqUyRZ"
      },
      "id": "IvnxCSuqUyRZ"
    },
    {
      "cell_type": "code",
      "source": [
        "import torch.optim as optim\n",
        "\n",
        "criterion = nn.CrossEntropyLoss()\n",
        "# optimizer = optim.SGD(net.parameters(), lr=0.001, momentum=0.9)\n",
        "optimizer = optim.Adam(net.parameters(), lr=0.001, weight_decay=0.005)"
      ],
      "metadata": {
        "id": "ohxKWWZEU1gB"
      },
      "id": "ohxKWWZEU1gB",
      "execution_count": 36,
      "outputs": []
    },
    {
      "cell_type": "markdown",
      "source": [
        "## 모델 구조 확인\n",
        "필요한 모듈을 import하여 모델의 구조를 확인하세요."
      ],
      "metadata": {
        "id": "JJ-I8388WeNP"
      },
      "id": "JJ-I8388WeNP"
    },
    {
      "cell_type": "code",
      "source": [
        "from torchsummary import summary\n",
        "summary(net, (3, 32, 32), batch_size=4)"
      ],
      "metadata": {
        "id": "cNgilC3VWdXP",
        "colab": {
          "base_uri": "https://localhost:8080/"
        },
        "outputId": "6f9c0af6-3107-4496-b2d8-17568383a4b1"
      },
      "id": "cNgilC3VWdXP",
      "execution_count": 37,
      "outputs": [
        {
          "output_type": "stream",
          "name": "stdout",
          "text": [
            "----------------------------------------------------------------\n",
            "        Layer (type)               Output Shape         Param #\n",
            "================================================================\n",
            "            Conv2d-1            [4, 16, 30, 30]             448\n",
            "       BatchNorm2d-2            [4, 16, 30, 30]              32\n",
            "              ReLU-3            [4, 16, 30, 30]               0\n",
            "         Dropout2d-4            [4, 16, 30, 30]               0\n",
            "            Conv2d-5            [4, 32, 28, 28]           4,640\n",
            "       BatchNorm2d-6            [4, 32, 28, 28]              64\n",
            "              ReLU-7            [4, 32, 28, 28]               0\n",
            "         Dropout2d-8            [4, 32, 28, 28]               0\n",
            "            Conv2d-9            [4, 64, 26, 26]          18,496\n",
            "      BatchNorm2d-10            [4, 64, 26, 26]             128\n",
            "             ReLU-11            [4, 64, 26, 26]               0\n",
            "        Dropout2d-12            [4, 64, 26, 26]               0\n",
            "        MaxPool2d-13            [4, 64, 13, 13]               0\n",
            "           Conv2d-14            [4, 64, 12, 12]          16,448\n",
            "      BatchNorm2d-15            [4, 64, 12, 12]             128\n",
            "             ReLU-16            [4, 64, 12, 12]               0\n",
            "        Dropout2d-17            [4, 64, 12, 12]               0\n",
            "           Conv2d-18            [4, 64, 11, 11]          16,448\n",
            "      BatchNorm2d-19            [4, 64, 11, 11]             128\n",
            "             ReLU-20            [4, 64, 11, 11]               0\n",
            "        Dropout2d-21            [4, 64, 11, 11]               0\n",
            "           Conv2d-22            [4, 64, 10, 10]          16,448\n",
            "      BatchNorm2d-23            [4, 64, 10, 10]             128\n",
            "             ReLU-24            [4, 64, 10, 10]               0\n",
            "        Dropout2d-25            [4, 64, 10, 10]               0\n",
            "           Linear-26                   [4, 300]       1,920,300\n",
            "             ReLU-27                   [4, 300]               0\n",
            "           Linear-28                    [4, 10]           3,010\n",
            "================================================================\n",
            "Total params: 1,996,846\n",
            "Trainable params: 1,996,846\n",
            "Non-trainable params: 0\n",
            "----------------------------------------------------------------\n",
            "Input size (MB): 0.05\n",
            "Forward/backward pass size (MB): 13.30\n",
            "Params size (MB): 7.62\n",
            "Estimated Total Size (MB): 20.97\n",
            "----------------------------------------------------------------\n"
          ]
        }
      ]
    },
    {
      "cell_type": "markdown",
      "source": [
        "## Train"
      ],
      "metadata": {
        "id": "1J8ealKkXOEM"
      },
      "id": "1J8ealKkXOEM"
    },
    {
      "cell_type": "code",
      "source": [
        "# 모델을 학습\n",
        "\n",
        "for epoch in range(100):\n",
        "\n",
        "    running_loss = 0.0\n",
        "    for i, data in enumerate(trainloader, 0):\n",
        "        # [inputs, labels]의 목록인 data로부터 입력을 받은 후;\n",
        "        inputs, labels = data\n",
        "        inputs, labels = inputs.cuda(), labels.cuda()\n",
        "        optimizer.zero_grad()\n",
        "        y_pred = net(inputs)\n",
        "        loss = criterion(y_pred, labels)\n",
        "        loss.backward()\n",
        "        optimizer.step()\n",
        "\n",
        "        # 통계를 출력합니다.\n",
        "        running_loss += loss.item()\n",
        "\n",
        "    print(f'{epoch + 1} loss: {running_loss / batch_size:.3f}')\n",
        "    running_loss = 0.0\n",
        "\n",
        "print('Finished Training')"
      ],
      "metadata": {
        "id": "nKM5C9MMXRHY",
        "colab": {
          "base_uri": "https://localhost:8080/"
        },
        "outputId": "47198ecd-14e7-4dfe-d166-6fee7ebdccfc"
      },
      "id": "nKM5C9MMXRHY",
      "execution_count": 38,
      "outputs": [
        {
          "output_type": "stream",
          "name": "stdout",
          "text": [
            "1 loss: 0.028\n",
            "2 loss: 0.022\n",
            "3 loss: 0.020\n",
            "4 loss: 0.019\n",
            "5 loss: 0.018\n",
            "6 loss: 0.017\n",
            "7 loss: 0.017\n",
            "8 loss: 0.016\n",
            "9 loss: 0.015\n",
            "10 loss: 0.015\n",
            "11 loss: 0.014\n",
            "12 loss: 0.014\n",
            "13 loss: 0.014\n",
            "14 loss: 0.013\n",
            "15 loss: 0.013\n",
            "16 loss: 0.013\n",
            "17 loss: 0.012\n",
            "18 loss: 0.012\n",
            "19 loss: 0.012\n",
            "20 loss: 0.012\n",
            "21 loss: 0.012\n",
            "22 loss: 0.011\n",
            "23 loss: 0.011\n",
            "24 loss: 0.011\n",
            "25 loss: 0.011\n",
            "26 loss: 0.011\n",
            "27 loss: 0.011\n",
            "28 loss: 0.011\n",
            "29 loss: 0.011\n",
            "30 loss: 0.010\n",
            "31 loss: 0.010\n",
            "32 loss: 0.010\n",
            "33 loss: 0.010\n",
            "34 loss: 0.010\n",
            "35 loss: 0.010\n",
            "36 loss: 0.010\n",
            "37 loss: 0.010\n",
            "38 loss: 0.010\n",
            "39 loss: 0.010\n",
            "40 loss: 0.010\n",
            "41 loss: 0.010\n",
            "42 loss: 0.010\n",
            "43 loss: 0.010\n",
            "44 loss: 0.009\n",
            "45 loss: 0.009\n",
            "46 loss: 0.009\n",
            "47 loss: 0.009\n",
            "48 loss: 0.009\n",
            "49 loss: 0.009\n",
            "50 loss: 0.009\n",
            "51 loss: 0.009\n",
            "52 loss: 0.009\n",
            "53 loss: 0.009\n",
            "54 loss: 0.009\n",
            "55 loss: 0.009\n",
            "56 loss: 0.009\n",
            "57 loss: 0.009\n",
            "58 loss: 0.009\n",
            "59 loss: 0.009\n",
            "60 loss: 0.009\n",
            "61 loss: 0.009\n",
            "62 loss: 0.009\n",
            "63 loss: 0.009\n",
            "64 loss: 0.009\n",
            "65 loss: 0.009\n",
            "66 loss: 0.009\n",
            "67 loss: 0.009\n",
            "68 loss: 0.009\n",
            "69 loss: 0.009\n",
            "70 loss: 0.009\n",
            "71 loss: 0.009\n",
            "72 loss: 0.008\n",
            "73 loss: 0.008\n",
            "74 loss: 0.008\n",
            "75 loss: 0.008\n",
            "76 loss: 0.008\n",
            "77 loss: 0.008\n",
            "78 loss: 0.008\n",
            "79 loss: 0.008\n",
            "80 loss: 0.008\n",
            "81 loss: 0.008\n",
            "82 loss: 0.008\n",
            "83 loss: 0.008\n",
            "84 loss: 0.008\n",
            "85 loss: 0.008\n",
            "86 loss: 0.008\n",
            "87 loss: 0.008\n",
            "88 loss: 0.008\n",
            "89 loss: 0.008\n",
            "90 loss: 0.008\n",
            "91 loss: 0.008\n",
            "92 loss: 0.008\n",
            "93 loss: 0.008\n",
            "94 loss: 0.008\n",
            "95 loss: 0.008\n",
            "96 loss: 0.008\n",
            "97 loss: 0.008\n",
            "98 loss: 0.008\n",
            "99 loss: 0.008\n",
            "100 loss: 0.008\n",
            "Finished Training\n"
          ]
        }
      ]
    },
    {
      "cell_type": "markdown",
      "source": [
        "## Test"
      ],
      "metadata": {
        "id": "pO7foeVZYQGc"
      },
      "id": "pO7foeVZYQGc"
    },
    {
      "cell_type": "code",
      "source": [
        "dataiter = iter(testloader)\n",
        "images, labels = dataiter.next()"
      ],
      "metadata": {
        "id": "UXkcLnHiXXik"
      },
      "id": "UXkcLnHiXXik",
      "execution_count": 39,
      "outputs": []
    },
    {
      "cell_type": "code",
      "source": [
        "## 아래 코드 그대로 실행\n",
        "\n",
        "correct = 0\n",
        "total = 0\n",
        "# 학습 중이 아니므로, 출력에 대한 변화도를 계산할 필요가 없습니다\n",
        "with torch.no_grad():\n",
        "    for data in testloader:\n",
        "        images, labels = data\n",
        "        images, labels = images.cuda(), labels.cuda()\n",
        "        # 신경망에 이미지를 통과시켜 출력을 계산합니다\n",
        "        outputs = net(images)\n",
        "        # 가장 높은 값(energy)를 갖는 분류(class)를 정답으로 선택하겠습니다\n",
        "        _, predicted = torch.max(outputs.data, 1)\n",
        "        total += labels.size(0)\n",
        "        correct += (predicted == labels).sum().item()\n",
        "\n",
        "print(f'Accuracy of the network on the 10000 test images: {100 * correct // total} %')"
      ],
      "metadata": {
        "id": "SUquYa8eYd3t",
        "colab": {
          "base_uri": "https://localhost:8080/"
        },
        "outputId": "06826ea4-554c-4f9a-cb85-3b634723caca"
      },
      "id": "SUquYa8eYd3t",
      "execution_count": 40,
      "outputs": [
        {
          "output_type": "stream",
          "name": "stdout",
          "text": [
            "Accuracy of the network on the 10000 test images: 71 %\n"
          ]
        }
      ]
    },
    {
      "cell_type": "markdown",
      "source": [
        "## 클래스별 accuracy 비교"
      ],
      "metadata": {
        "id": "GA5RjBm-YzCE"
      },
      "id": "GA5RjBm-YzCE"
    },
    {
      "cell_type": "code",
      "source": [
        "## 아래 코드 그대로 실행\n",
        "\n",
        "# 각 분류(class)에 대한 예측값 계산을 위해 준비\n",
        "correct_pred = {classname: 0 for classname in classes}\n",
        "total_pred = {classname: 0 for classname in classes}\n",
        "\n",
        "# 변화도는 여전히 필요하지 않습니다\n",
        "with torch.no_grad():\n",
        "    for data in testloader:\n",
        "        images, labels = data\n",
        "        images, labels = images.cuda(), labels.cuda()\n",
        "        outputs = net(images)\n",
        "        _, predictions = torch.max(outputs, 1)\n",
        "        # 각 분류별로 올바른 예측 수를 모읍니다\n",
        "        for label, prediction in zip(labels, predictions):\n",
        "            if label == prediction:\n",
        "                correct_pred[classes[label]] += 1\n",
        "            total_pred[classes[label]] += 1\n",
        "\n",
        "\n",
        "# 각 분류별 정확도(accuracy)를 출력합니다\n",
        "for classname, correct_count in correct_pred.items():\n",
        "    accuracy = 100 * float(correct_count) / total_pred[classname]\n",
        "    print(f'Accuracy for class: {classname:5s} is {accuracy:.1f} %')"
      ],
      "metadata": {
        "id": "zAoJae7eY1WU",
        "colab": {
          "base_uri": "https://localhost:8080/"
        },
        "outputId": "392e122e-c4d8-4b27-e53a-90b092d8ce08"
      },
      "id": "zAoJae7eY1WU",
      "execution_count": 41,
      "outputs": [
        {
          "output_type": "stream",
          "name": "stdout",
          "text": [
            "Accuracy for class: plane is 74.3 %\n",
            "Accuracy for class: car   is 82.7 %\n",
            "Accuracy for class: bird  is 56.5 %\n",
            "Accuracy for class: cat   is 60.3 %\n",
            "Accuracy for class: deer  is 66.0 %\n",
            "Accuracy for class: dog   is 65.3 %\n",
            "Accuracy for class: frog  is 78.7 %\n",
            "Accuracy for class: horse is 65.6 %\n",
            "Accuracy for class: ship  is 82.7 %\n",
            "Accuracy for class: truck is 83.9 %\n"
          ]
        }
      ]
    },
    {
      "cell_type": "code",
      "source": [
        ""
      ],
      "metadata": {
        "id": "ASzAKztn4Arx"
      },
      "id": "ASzAKztn4Arx",
      "execution_count": null,
      "outputs": []
    }
  ],
  "metadata": {
    "hide_input": false,
    "kernelspec": {
      "display_name": "Python 3",
      "language": "python",
      "name": "python3"
    },
    "language_info": {
      "codemirror_mode": {
        "name": "ipython",
        "version": 3
      },
      "file_extension": ".py",
      "mimetype": "text/x-python",
      "name": "python",
      "nbconvert_exporter": "python",
      "pygments_lexer": "ipython3",
      "version": "3.8.10"
    },
    "toc": {
      "base_numbering": 1,
      "nav_menu": {},
      "number_sections": true,
      "sideBar": true,
      "skip_h1_title": false,
      "title_cell": "Table of Contents",
      "title_sidebar": "Contents",
      "toc_cell": false,
      "toc_position": {},
      "toc_section_display": true,
      "toc_window_display": false
    },
    "varInspector": {
      "cols": {
        "lenName": 16,
        "lenType": 16,
        "lenVar": 40
      },
      "kernels_config": {
        "python": {
          "delete_cmd_postfix": "",
          "delete_cmd_prefix": "del ",
          "library": "var_list.py",
          "varRefreshCmd": "print(var_dic_list())"
        },
        "r": {
          "delete_cmd_postfix": ") ",
          "delete_cmd_prefix": "rm(",
          "library": "var_list.r",
          "varRefreshCmd": "cat(var_dic_list()) "
        }
      },
      "types_to_exclude": [
        "module",
        "function",
        "builtin_function_or_method",
        "instance",
        "_Feature"
      ],
      "window_display": false
    },
    "colab": {
      "name": "[6기 박준우] BatchNorm 과제.ipynb",
      "provenance": [],
      "collapsed_sections": [],
      "machine_shape": "hm"
    },
    "accelerator": "GPU"
  },
  "nbformat": 4,
  "nbformat_minor": 5
}