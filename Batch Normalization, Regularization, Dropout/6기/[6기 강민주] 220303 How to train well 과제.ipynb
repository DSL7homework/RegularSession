{
 "cells": [
  {
   "cell_type": "markdown",
   "metadata": {},
   "source": [
    "# 사전 준비"
   ]
  },
  {
   "cell_type": "markdown",
   "metadata": {
    "id": "SEplwfV2eh2x"
   },
   "source": [
    "## 모듈 불러오기"
   ]
  },
  {
   "cell_type": "code",
   "execution_count": 1,
   "metadata": {
    "ExecuteTime": {
     "end_time": "2022-03-08T16:06:49.124226Z",
     "start_time": "2022-03-08T16:06:44.955703Z"
    },
    "colab": {
     "base_uri": "https://localhost:8080/"
    },
    "id": "PUAoW-0PemWc",
    "outputId": "302cd866-42ef-4bb3-cf48-39d4c560ea5b"
   },
   "outputs": [
    {
     "name": "stdout",
     "output_type": "stream",
     "text": [
      "1.9.0+cpu\n"
     ]
    }
   ],
   "source": [
    "import torch \n",
    "import torch.nn as nn # neural network가 담겨있는 모듈\n",
    "import torch.optim as optim  # optimizer가 담겨있는 모듈\n",
    "import torch.nn.init as init # neural network를 초기화 하는 모듈. \n",
    "from torch.utils.data import DataLoader # DataLoader는 데이터를 batch_size만큼 불러오는 역할 등을 수행 \n",
    "\n",
    "import torchvision \n",
    "import torchvision.datasets as dset # 사진 등의 vision 데이터가 담겨있는 모듈\n",
    "import torchvision.transforms as transforms # 데이터를 자르고, 반전시키고 tensor로 변환해주기 등의 데이터 변환 함수를 불러오는 모듈\n",
    "import numpy as np\n",
    "\n",
    "import matplotlib.pyplot as plt\n",
    "\n",
    "print(torch.__version__)\n"
   ]
  },
  {
   "cell_type": "markdown",
   "metadata": {
    "id": "MH4mk5jEgAX4"
   },
   "source": [
    "## 데이터 다운 "
   ]
  },
  {
   "cell_type": "code",
   "execution_count": 2,
   "metadata": {
    "ExecuteTime": {
     "end_time": "2022-03-08T16:07:01.622691Z",
     "start_time": "2022-03-08T16:06:51.335646Z"
    },
    "id": "q70XVvuLgNhu"
   },
   "outputs": [
    {
     "name": "stdout",
     "output_type": "stream",
     "text": [
      "Downloading http://yann.lecun.com/exdb/mnist/train-images-idx3-ubyte.gz\n",
      "Downloading http://yann.lecun.com/exdb/mnist/train-images-idx3-ubyte.gz to ../MNIST\\raw\\train-images-idx3-ubyte.gz\n"
     ]
    },
    {
     "data": {
      "application/vnd.jupyter.widget-view+json": {
       "model_id": "188899eca83d4b2c93f24a35e412c85c",
       "version_major": 2,
       "version_minor": 0
      },
      "text/plain": [
       "  0%|          | 0/9912422 [00:00<?, ?it/s]"
      ]
     },
     "metadata": {},
     "output_type": "display_data"
    },
    {
     "name": "stdout",
     "output_type": "stream",
     "text": [
      "Extracting ../MNIST\\raw\\train-images-idx3-ubyte.gz to ../MNIST\\raw\n",
      "\n",
      "Downloading http://yann.lecun.com/exdb/mnist/train-labels-idx1-ubyte.gz\n",
      "Downloading http://yann.lecun.com/exdb/mnist/train-labels-idx1-ubyte.gz to ../MNIST\\raw\\train-labels-idx1-ubyte.gz\n"
     ]
    },
    {
     "data": {
      "application/vnd.jupyter.widget-view+json": {
       "model_id": "06a38e982ed244598293dd946af0928b",
       "version_major": 2,
       "version_minor": 0
      },
      "text/plain": [
       "  0%|          | 0/28881 [00:00<?, ?it/s]"
      ]
     },
     "metadata": {},
     "output_type": "display_data"
    },
    {
     "name": "stdout",
     "output_type": "stream",
     "text": [
      "Extracting ../MNIST\\raw\\train-labels-idx1-ubyte.gz to ../MNIST\\raw\n",
      "\n",
      "Downloading http://yann.lecun.com/exdb/mnist/t10k-images-idx3-ubyte.gz\n",
      "Downloading http://yann.lecun.com/exdb/mnist/t10k-images-idx3-ubyte.gz to ../MNIST\\raw\\t10k-images-idx3-ubyte.gz\n"
     ]
    },
    {
     "data": {
      "application/vnd.jupyter.widget-view+json": {
       "model_id": "f72dfae17a6e4b8390555324fc88ba3e",
       "version_major": 2,
       "version_minor": 0
      },
      "text/plain": [
       "  0%|          | 0/1648877 [00:00<?, ?it/s]"
      ]
     },
     "metadata": {},
     "output_type": "display_data"
    },
    {
     "name": "stdout",
     "output_type": "stream",
     "text": [
      "Extracting ../MNIST\\raw\\t10k-images-idx3-ubyte.gz to ../MNIST\\raw\n",
      "\n",
      "Downloading http://yann.lecun.com/exdb/mnist/t10k-labels-idx1-ubyte.gz\n",
      "Downloading http://yann.lecun.com/exdb/mnist/t10k-labels-idx1-ubyte.gz to ../MNIST\\raw\\t10k-labels-idx1-ubyte.gz\n"
     ]
    },
    {
     "data": {
      "application/vnd.jupyter.widget-view+json": {
       "model_id": "3660b4f56f524c29bd5bb91533457267",
       "version_major": 2,
       "version_minor": 0
      },
      "text/plain": [
       "  0%|          | 0/4542 [00:00<?, ?it/s]"
      ]
     },
     "metadata": {},
     "output_type": "display_data"
    },
    {
     "name": "stdout",
     "output_type": "stream",
     "text": [
      "Extracting ../MNIST\\raw\\t10k-labels-idx1-ubyte.gz to ../MNIST\\raw\n",
      "\n"
     ]
    },
    {
     "name": "stderr",
     "output_type": "stream",
     "text": [
      "C:\\Users\\82105\\anaconda3\\lib\\site-packages\\torchvision\\datasets\\mnist.py:498: UserWarning: The given NumPy array is not writeable, and PyTorch does not support non-writeable tensors. This means you can write to the underlying (supposedly non-writeable) NumPy array using the tensor. You may want to copy the array to protect its data or make it writeable before converting it to a tensor. This type of warning will be suppressed for the rest of this program. (Triggered internally at  ..\\torch\\csrc\\utils\\tensor_numpy.cpp:180.)\n",
      "  return torch.from_numpy(parsed.astype(m[2], copy=False)).view(*s)\n"
     ]
    }
   ],
   "source": [
    "#모듈을 통해 torchvision에서 제공하는 데이터를 쉽게 다운받을 수 있습니다. \n",
    "#root는 불러들인 데이터가 저장되는 곳, train은 학습데이터인지에 대한 여부, transform은 데이터 변환함수를 넣는 인자, \n",
    "#target_transform은 label(정답)데이터 또한 변환할 것인지에 대한 여부 \n",
    "#download는 지정된 경로에 데이터가 없다면 다운받을 것인지에 대한 여부를 묻습니다.\n",
    "\n",
    "mnist_train=dset.MNIST(root='../',train=True, transform=transforms.ToTensor(), target_transform=None, download=True)\n",
    "mnist_test=dset.MNIST(root='../',train=False, transform=transforms.ToTensor(), target_transform=None, download=True)"
   ]
  },
  {
   "cell_type": "code",
   "execution_count": 3,
   "metadata": {
    "ExecuteTime": {
     "end_time": "2022-03-08T16:07:04.843515Z",
     "start_time": "2022-03-08T16:07:04.806574Z"
    },
    "colab": {
     "base_uri": "https://localhost:8080/"
    },
    "id": "bwuITE6Xhdqf",
    "outputId": "ffad37e3-cbaf-4165-a2d3-9386b14aadc3"
   },
   "outputs": [
    {
     "name": "stdout",
     "output_type": "stream",
     "text": [
      "torch.Size([1, 28, 28]) 60000\n",
      "torch.Size([1, 28, 28]) 10000\n",
      "60000 10000\n"
     ]
    }
   ],
   "source": [
    "# 데이터 셋 체크 getitem을 써도 되고, 인덱싱을 통해서 확인도 가능\n",
    "# 데이터 하나가 가진 크기 확인 필수! 입력의 사이즈를 알아야 그에 맞게 모델 구현 가능\n",
    "print(mnist_train.__getitem__(0)[0].size(), mnist_train.__len__())\n",
    "print(mnist_test.__getitem__(0)[0].size(), mnist_test.__len__())\n",
    "\n",
    "print(len(mnist_train),len(mnist_test))\n",
    "# print(mnist_train[0])"
   ]
  },
  {
   "cell_type": "markdown",
   "metadata": {
    "id": "w_Q6-cabhwsP"
   },
   "source": [
    "## 하이퍼 파라미터 "
   ]
  },
  {
   "cell_type": "code",
   "execution_count": 4,
   "metadata": {
    "ExecuteTime": {
     "end_time": "2022-03-08T16:07:08.095489Z",
     "start_time": "2022-03-08T16:07:08.087553Z"
    },
    "id": "lmlwfoYyhz6f"
   },
   "outputs": [],
   "source": [
    "# CNN의 대표적인 하이퍼 파라미터 num_epoch, batch_size, learnin_rate\n",
    "\n",
    "num_epoch=10\n",
    "batch_size=256\n",
    "learning_rate= 0.0002"
   ]
  },
  {
   "cell_type": "markdown",
   "metadata": {
    "id": "HlEXO2ntiD2L"
   },
   "source": [
    "## 데이터 로더 정의하기 "
   ]
  },
  {
   "cell_type": "markdown",
   "metadata": {
    "id": "MY-vzNXMiKnA"
   },
   "source": [
    "- 사용할 데이터\n",
    "- 배치 사이즈 (batch_size)\n",
    "- 섞을지 여부 (shuffle)\n",
    "- 사용할 프로세스 개수 (num_workers)\n",
    "- 마지막에 남는 데이터의 처리 여부 (drop_last)"
   ]
  },
  {
   "cell_type": "code",
   "execution_count": 5,
   "metadata": {
    "ExecuteTime": {
     "end_time": "2022-03-08T16:07:12.105423Z",
     "start_time": "2022-03-08T16:07:12.084478Z"
    },
    "id": "wavj9j6OiDZs"
   },
   "outputs": [],
   "source": [
    "# 위에서 데이터 전부를 정의해 mnist_train에는 모든 학습 데이터가 들어있는 상태\n",
    "# 모든 학습 데이터를 한 번에 학습하면 과부하가 발생\n",
    "# 그래서 데이터를 조금씩 조금씩 쪼개서 학습하기 위해 DataLodaer 사용\n",
    "\n",
    "train_loader=DataLoader(dataset=mnist_train, batch_size=batch_size, shuffle=True, num_workers=2, drop_last=True)\n",
    "test_loader=DataLoader(dataset=mnist_test, batch_size=batch_size, shuffle=False, num_workers=2, drop_last=True)"
   ]
  },
  {
   "cell_type": "markdown",
   "metadata": {},
   "source": [
    "# 기존 CNN 모델"
   ]
  },
  {
   "cell_type": "markdown",
   "metadata": {
    "id": "7_BVY0-gjIW5"
   },
   "source": [
    "## 모델 정의하기"
   ]
  },
  {
   "cell_type": "markdown",
   "metadata": {
    "id": "4o0SSaiiCWOn"
   },
   "source": [
    "Conv(1,16,5)->ReLu->Conv(16,32,5)->ReLu->MaxPool2d(2,2)->Conv2d(32,64,5)->ReLu->MaxPool2d(2,2)->fc"
   ]
  },
  {
   "cell_type": "code",
   "execution_count": 6,
   "metadata": {
    "ExecuteTime": {
     "end_time": "2022-03-08T16:07:16.057422Z",
     "start_time": "2022-03-08T16:07:16.048445Z"
    },
    "id": "u07CLv7wjBFZ"
   },
   "outputs": [],
   "source": [
    "class CNN(nn.Module):\n",
    "    def __init__(self):\n",
    "        super(CNN,self).__init__()\n",
    "        self.layer = nn.Sequential(\n",
    "            nn.Conv2d(in_channels=1,out_channels=16,kernel_size=5),             # [batch_size,1,28,28] -> [batch_size,16,24,24]\n",
    "            nn.ReLU(),                                                          # 필터의 개수(16개) 임의로 설정 \n",
    "            nn.Conv2d(in_channels=16,out_channels=32,kernel_size=5),            # [batch_size,16,24,24] -> [batch_size,32,20,20]\n",
    "            nn.ReLU(),\n",
    "            nn.MaxPool2d(kernel_size=2,stride=2),                               # [batch_size,32,20,20] -> [batch_size,32,10,10]\n",
    "            nn.Conv2d(in_channels=32, out_channels=64, kernel_size=5),          # [batch_size,32,10,10] -> [batch_size,64,6,6]\n",
    "            nn.ReLU(),\n",
    "            nn.MaxPool2d(kernel_size=2,stride=2)                                # [batch_size,64,6,6] -> [batch_size,64,3,3]\n",
    "        )\n",
    "        self.fc_layer = nn.Sequential(                                          \n",
    "            nn.Linear(64*3*3,100),                                              # [batch_size,64*3*3] -> [batch_size,100]\n",
    "            nn.ReLU(),\n",
    "            nn.Linear(100,10)                                                   # [batch_size,100] -> [batch_size,10]\n",
    "        )       \n",
    "        \n",
    "    def forward(self,x):\n",
    "        out = self.layer(x)                                                     # self.layer에 정의한 Sequential의 연산을 차례로 수행\n",
    "        out = out.view(out.size(0),-1)                                           # view 함수를 이용해 텐서를 flatten \n",
    "                                                                                # ex) 2x3 텐서를 .view(1,-1) 해주면 1x6으로, view(3,-1)이면 3x2로\n",
    "                                                                                # !전체 텐서의 크기가 batch_size로 나누어 떨어지지 않으면 오류!\n",
    "        out = self.fc_layer(out)\n",
    "        return out"
   ]
  },
  {
   "cell_type": "markdown",
   "metadata": {
    "id": "gFI_EbhklAJE"
   },
   "source": [
    "## 손실함수와 최적화 함수 정의하기 "
   ]
  },
  {
   "cell_type": "code",
   "execution_count": 7,
   "metadata": {
    "ExecuteTime": {
     "end_time": "2022-03-08T16:07:20.413242Z",
     "start_time": "2022-03-08T16:07:20.375343Z"
    },
    "colab": {
     "base_uri": "https://localhost:8080/"
    },
    "id": "yyAD69AflC24",
    "outputId": "5374c430-76ad-44a0-a59f-9803dc592ea9"
   },
   "outputs": [
    {
     "name": "stdout",
     "output_type": "stream",
     "text": [
      "cpu\n"
     ]
    }
   ],
   "source": [
    "# gpu나 cpu를 device로 불러 device에서 학습이 진행되게끔 모델을 device에 올리기\n",
    "# loss function과 optimizer도 정의해야 \n",
    "\n",
    "device=torch.device(\"cuda:0\" if torch.cuda.is_available() else 'cpu')  \n",
    "\n",
    "print(device)\n",
    "\n",
    "model=CNN().to(device)\n",
    "\n",
    "loss_func=nn.CrossEntropyLoss()\n",
    "\n",
    "optimizer=torch.optim.Adam(model.parameters(),lr=learning_rate)"
   ]
  },
  {
   "cell_type": "code",
   "execution_count": 8,
   "metadata": {
    "ExecuteTime": {
     "end_time": "2022-03-08T16:07:29.138414Z",
     "start_time": "2022-03-08T16:07:22.513212Z"
    }
   },
   "outputs": [
    {
     "name": "stdout",
     "output_type": "stream",
     "text": [
      "Requirement already satisfied: torchsummary in c:\\users\\82105\\anaconda3\\lib\\site-packages (1.5.1)\n"
     ]
    },
    {
     "name": "stderr",
     "output_type": "stream",
     "text": [
      "WARNING: You are using pip version 21.3.1; however, version 22.0.3 is available.\n",
      "You should consider upgrading via the 'c:\\users\\82105\\anaconda3\\python.exe -m pip install --upgrade pip' command.\n"
     ]
    }
   ],
   "source": [
    "!pip install torchsummary"
   ]
  },
  {
   "cell_type": "code",
   "execution_count": 9,
   "metadata": {
    "ExecuteTime": {
     "end_time": "2022-03-08T16:07:30.228679Z",
     "start_time": "2022-03-08T16:07:30.107949Z"
    },
    "colab": {
     "base_uri": "https://localhost:8080/"
    },
    "id": "VXSyhRs_ROhe",
    "outputId": "4a52d286-2b1e-417d-e961-e614caa316b1",
    "scrolled": false
   },
   "outputs": [
    {
     "name": "stdout",
     "output_type": "stream",
     "text": [
      "----------------------------------------------------------------\n",
      "        Layer (type)               Output Shape         Param #\n",
      "================================================================\n",
      "            Conv2d-1          [256, 16, 24, 24]             416\n",
      "              ReLU-2          [256, 16, 24, 24]               0\n",
      "            Conv2d-3          [256, 32, 20, 20]          12,832\n",
      "              ReLU-4          [256, 32, 20, 20]               0\n",
      "         MaxPool2d-5          [256, 32, 10, 10]               0\n",
      "            Conv2d-6            [256, 64, 6, 6]          51,264\n",
      "              ReLU-7            [256, 64, 6, 6]               0\n",
      "         MaxPool2d-8            [256, 64, 3, 3]               0\n",
      "            Linear-9                 [256, 100]          57,700\n",
      "             ReLU-10                 [256, 100]               0\n",
      "           Linear-11                  [256, 10]           1,010\n",
      "================================================================\n",
      "Total params: 123,222\n",
      "Trainable params: 123,222\n",
      "Non-trainable params: 0\n",
      "----------------------------------------------------------------\n",
      "Input size (MB): 0.77\n",
      "Forward/backward pass size (MB): 102.79\n",
      "Params size (MB): 0.47\n",
      "Estimated Total Size (MB): 104.02\n",
      "----------------------------------------------------------------\n"
     ]
    },
    {
     "name": "stderr",
     "output_type": "stream",
     "text": [
      "C:\\Users\\82105\\anaconda3\\lib\\site-packages\\torch\\nn\\functional.py:718: UserWarning: Named tensors and all their associated APIs are an experimental feature and subject to change. Please do not use them for anything important until they are released as stable. (Triggered internally at  ..\\c10/core/TensorImpl.h:1156.)\n",
      "  return torch.max_pool2d(input, kernel_size, stride, padding, dilation, ceil_mode)\n"
     ]
    }
   ],
   "source": [
    "from torchsummary import summary\n",
    "summary(model,(1,28,28), batch_size=256)          # 파이토치는 입력을 (channel, width, height) 순으로"
   ]
  },
  {
   "cell_type": "markdown",
   "metadata": {
    "id": "_DPFr5TZl_6I"
   },
   "source": [
    "## 학습하기 "
   ]
  },
  {
   "cell_type": "code",
   "execution_count": 10,
   "metadata": {
    "ExecuteTime": {
     "end_time": "2022-03-08T16:17:49.957170Z",
     "start_time": "2022-03-08T16:07:34.828396Z"
    },
    "colab": {
     "base_uri": "https://localhost:8080/"
    },
    "id": "4Am3C_jDlcvf",
    "outputId": "b5323aad-0dd3-45fa-d3ee-5634578c92ea"
   },
   "outputs": [
    {
     "name": "stdout",
     "output_type": "stream",
     "text": [
      "tensor(2.3014, grad_fn=<NllLossBackward>)\n",
      "tensor(0.3345, grad_fn=<NllLossBackward>)\n",
      "tensor(0.1483, grad_fn=<NllLossBackward>)\n",
      "tensor(0.1170, grad_fn=<NllLossBackward>)\n",
      "tensor(0.0882, grad_fn=<NllLossBackward>)\n",
      "tensor(0.0558, grad_fn=<NllLossBackward>)\n",
      "tensor(0.0795, grad_fn=<NllLossBackward>)\n",
      "tensor(0.0320, grad_fn=<NllLossBackward>)\n",
      "tensor(0.0538, grad_fn=<NllLossBackward>)\n",
      "tensor(0.0243, grad_fn=<NllLossBackward>)\n"
     ]
    }
   ],
   "source": [
    "loss_arr=[]\n",
    "\n",
    "for i in range(num_epoch):\n",
    "  for j,[image,label] in enumerate(train_loader):\n",
    "    x=image.to(device)            # 학습이미지\n",
    "    y_=label.to(device)           # 정답을 device에 올리고.\n",
    "    optimizer.zero_grad() \n",
    "    output=model.forward(x)       # 학습이미지를 모델에 돌린 결과\n",
    "    loss=loss_func(output,y_)     # 결과와 정답을 loss function에 넣고 loss를 추출\n",
    "    loss.backward()               # 추출된 loss를 통해 역전파\n",
    "    optimizer.step()              # 역전파를 했다면 optimizer.step()를 통해 파라미터를 이동\n",
    "    \n",
    "    if j%1000==0:\n",
    "      print(loss)\n",
    "      loss_arr.append(loss.cpu().detach().numpy())"
   ]
  },
  {
   "cell_type": "markdown",
   "metadata": {
    "id": "Z0XBGIpgDvMK"
   },
   "source": [
    "## 손실 시각화 "
   ]
  },
  {
   "cell_type": "code",
   "execution_count": 11,
   "metadata": {
    "ExecuteTime": {
     "end_time": "2022-03-08T16:18:07.328388Z",
     "start_time": "2022-03-08T16:18:07.046453Z"
    },
    "colab": {
     "base_uri": "https://localhost:8080/",
     "height": 265
    },
    "id": "8mJdMonFDu9a",
    "outputId": "721f2239-c5d3-4f67-8f1d-b4e7a1fcaed2"
   },
   "outputs": [
    {
     "data": {
      "image/png": "[encoded data removed]",
      "text/plain": [
       "<Figure size 432x288 with 1 Axes>"
      ]
     },
     "metadata": {
      "needs_background": "light"
     },
     "output_type": "display_data"
    }
   ],
   "source": [
    "plt.plot(loss_arr)\n",
    "plt.show()"
   ]
  },
  {
   "cell_type": "markdown",
   "metadata": {
    "id": "YJNZDgOpDpTI"
   },
   "source": [
    "## 테스트하기 "
   ]
  },
  {
   "cell_type": "code",
   "execution_count": 12,
   "metadata": {
    "ExecuteTime": {
     "end_time": "2022-03-08T16:18:15.102612Z",
     "start_time": "2022-03-08T16:18:10.566737Z"
    },
    "colab": {
     "base_uri": "https://localhost:8080/"
    },
    "id": "vHylngGCDpE0",
    "outputId": "57d0f04e-6df6-42d0-dbab-01f411e621cf",
    "scrolled": true
   },
   "outputs": [
    {
     "name": "stdout",
     "output_type": "stream",
     "text": [
      "Accuracy of Test Data: 98.64783477783203%\n"
     ]
    }
   ],
   "source": [
    "correct=0\n",
    "total=0\n",
    "\n",
    "with torch.no_grad():\n",
    "  for image,label in test_loader:\n",
    "    x=image.to(device)\n",
    "    y_=label.to(device)\n",
    "    output=model.forward(x)\n",
    "     #https://pytorch.org/docs/stable/torch.html?highlight=max#torch.max\n",
    "    _,output_index=torch.max(output,1)  #max함수는 max value와 max value의 index를 도출합니다. 두 번째 인자 1은 결과의 dimension을 의미합니다. \n",
    "\n",
    "    total+=label.size(0)\n",
    "\n",
    "    correct += (output_index==y_).sum().float()\n",
    "\n",
    "print(\"Accuracy of Test Data: {}%\".format(100*correct/total))"
   ]
  },
  {
   "cell_type": "markdown",
   "metadata": {},
   "source": [
    "# 개선 CNN 모델"
   ]
  },
  {
   "cell_type": "markdown",
   "metadata": {
    "id": "7_BVY0-gjIW5"
   },
   "source": [
    "## 모델 정의하기"
   ]
  },
  {
   "cell_type": "code",
   "execution_count": 21,
   "metadata": {
    "ExecuteTime": {
     "end_time": "2022-03-08T16:21:08.897744Z",
     "start_time": "2022-03-08T16:21:08.876841Z"
    },
    "id": "u07CLv7wjBFZ"
   },
   "outputs": [],
   "source": [
    "# with Batchnorm & Dropout\n",
    "\n",
    "class NewCNN(nn.Module):\n",
    "    def __init__(self):\n",
    "        super(NewCNN,self).__init__()\n",
    "        self.layer = nn.Sequential(\n",
    "            nn.Conv2d(in_channels=1,out_channels=16,kernel_size=5),             # [batch_size,1,28,28] -> [batch_size,16,24,24]\n",
    "            nn.BatchNorm2d(16),\n",
    "            nn.ReLU(),                                                          # 필터의 개수(16개) 임의로 설정 \n",
    "            nn.Conv2d(in_channels=16,out_channels=32,kernel_size=5),            # [batch_size,16,24,24] -> [batch_size,32,20,20]\n",
    "            nn.BatchNorm2d(32),\n",
    "            nn.ReLU(),\n",
    "            nn.MaxPool2d(kernel_size=2,stride=2),                               # [batch_size,32,20,20] -> [batch_size,32,10,10]\n",
    "            nn.Conv2d(in_channels=32, out_channels=64, kernel_size=5),          # [batch_size,32,10,10] -> [batch_size,64,6,6]\n",
    "            nn.BatchNorm2d(64),\n",
    "            nn.ReLU(),\n",
    "            nn.MaxPool2d(kernel_size=2,stride=2)                                # [batch_size,64,6,6] -> [batch_size,64,3,3]\n",
    "        )\n",
    "        self.fc_layer = nn.Sequential(                                          \n",
    "            nn.Linear(64*3*3,100),                                              # [batch_size,64*3*3] -> [batch_size,100]\n",
    "            nn.ReLU(),\n",
    "            nn.Dropout(0.5),\n",
    "            nn.Linear(100,10)                                                   # [batch_size,100] -> [batch_size,10]\n",
    "        )       \n",
    "        \n",
    "    def forward(self,x):\n",
    "        out = self.layer(x)                                                     # self.layer에 정의한 Sequential의 연산을 차례로 수행\n",
    "        out = out.view(out.size(0),-1)                                           # view 함수를 이용해 텐서를 flatten \n",
    "                                                                                # ex) 2x3 텐서를 .view(1,-1) 해주면 1x6으로, view(3,-1)이면 3x2로\n",
    "                                                                                # !전체 텐서의 크기가 batch_size로 나누어 떨어지지 않으면 오류!\n",
    "        out = self.fc_layer(out)\n",
    "        return out"
   ]
  },
  {
   "cell_type": "markdown",
   "metadata": {
    "id": "gFI_EbhklAJE"
   },
   "source": [
    "## 손실함수와 최적화 함수 정의하기 "
   ]
  },
  {
   "cell_type": "code",
   "execution_count": 22,
   "metadata": {
    "ExecuteTime": {
     "end_time": "2022-03-08T16:21:10.665913Z",
     "start_time": "2022-03-08T16:21:10.639019Z"
    },
    "colab": {
     "base_uri": "https://localhost:8080/"
    },
    "id": "yyAD69AflC24",
    "outputId": "5374c430-76ad-44a0-a59f-9803dc592ea9"
   },
   "outputs": [
    {
     "name": "stdout",
     "output_type": "stream",
     "text": [
      "cpu\n"
     ]
    }
   ],
   "source": [
    "# gpu나 cpu를 device로 불러 device에서 학습이 진행되게끔 모델을 device에 올리기\n",
    "# loss function과 optimizer도 정의해야 \n",
    "\n",
    "device=torch.device(\"cuda:0\" if torch.cuda.is_available() else 'cpu')  \n",
    "\n",
    "print(device)\n",
    "\n",
    "model=NewCNN().to(device)\n",
    "\n",
    "loss_func=nn.CrossEntropyLoss()\n",
    "\n",
    "optimizer=torch.optim.Adam(model.parameters(),lr=learning_rate)"
   ]
  },
  {
   "cell_type": "code",
   "execution_count": 23,
   "metadata": {
    "ExecuteTime": {
     "end_time": "2022-03-08T16:21:12.479190Z",
     "start_time": "2022-03-08T16:21:12.436306Z"
    },
    "colab": {
     "base_uri": "https://localhost:8080/"
    },
    "id": "VXSyhRs_ROhe",
    "outputId": "4a52d286-2b1e-417d-e961-e614caa316b1",
    "scrolled": false
   },
   "outputs": [
    {
     "name": "stdout",
     "output_type": "stream",
     "text": [
      "----------------------------------------------------------------\n",
      "        Layer (type)               Output Shape         Param #\n",
      "================================================================\n",
      "            Conv2d-1          [256, 16, 24, 24]             416\n",
      "       BatchNorm2d-2          [256, 16, 24, 24]              32\n",
      "              ReLU-3          [256, 16, 24, 24]               0\n",
      "            Conv2d-4          [256, 32, 20, 20]          12,832\n",
      "       BatchNorm2d-5          [256, 32, 20, 20]              64\n",
      "              ReLU-6          [256, 32, 20, 20]               0\n",
      "         MaxPool2d-7          [256, 32, 10, 10]               0\n",
      "            Conv2d-8            [256, 64, 6, 6]          51,264\n",
      "       BatchNorm2d-9            [256, 64, 6, 6]             128\n",
      "             ReLU-10            [256, 64, 6, 6]               0\n",
      "        MaxPool2d-11            [256, 64, 3, 3]               0\n",
      "           Linear-12                 [256, 100]          57,700\n",
      "             ReLU-13                 [256, 100]               0\n",
      "          Dropout-14                 [256, 100]               0\n",
      "           Linear-15                  [256, 10]           1,010\n",
      "================================================================\n",
      "Total params: 123,446\n",
      "Trainable params: 123,446\n",
      "Non-trainable params: 0\n",
      "----------------------------------------------------------------\n",
      "Input size (MB): 0.77\n",
      "Forward/backward pass size (MB): 150.48\n",
      "Params size (MB): 0.47\n",
      "Estimated Total Size (MB): 151.72\n",
      "----------------------------------------------------------------\n"
     ]
    }
   ],
   "source": [
    "from torchsummary import summary\n",
    "summary(model,(1,28,28), batch_size=256)          # 파이토치는 입력을 (channel, width, height) 순으로"
   ]
  },
  {
   "cell_type": "markdown",
   "metadata": {
    "id": "_DPFr5TZl_6I"
   },
   "source": [
    "## 학습하기 "
   ]
  },
  {
   "cell_type": "code",
   "execution_count": 24,
   "metadata": {
    "ExecuteTime": {
     "end_time": "2022-03-08T16:34:19.409535Z",
     "start_time": "2022-03-08T16:21:22.004220Z"
    },
    "colab": {
     "base_uri": "https://localhost:8080/"
    },
    "id": "4Am3C_jDlcvf",
    "outputId": "b5323aad-0dd3-45fa-d3ee-5634578c92ea"
   },
   "outputs": [
    {
     "name": "stdout",
     "output_type": "stream",
     "text": [
      "tensor(2.3243, grad_fn=<NllLossBackward>)\n",
      "tensor(0.1826, grad_fn=<NllLossBackward>)\n",
      "tensor(0.1315, grad_fn=<NllLossBackward>)\n",
      "tensor(0.0853, grad_fn=<NllLossBackward>)\n",
      "tensor(0.0513, grad_fn=<NllLossBackward>)\n",
      "tensor(0.0356, grad_fn=<NllLossBackward>)\n",
      "tensor(0.0199, grad_fn=<NllLossBackward>)\n",
      "tensor(0.0286, grad_fn=<NllLossBackward>)\n",
      "tensor(0.0401, grad_fn=<NllLossBackward>)\n",
      "tensor(0.0069, grad_fn=<NllLossBackward>)\n"
     ]
    }
   ],
   "source": [
    "loss_arr=[]\n",
    "\n",
    "for i in range(num_epoch):\n",
    "  for j,[image,label] in enumerate(train_loader):\n",
    "    x=image.to(device)            # 학습이미지\n",
    "    y_=label.to(device)           # 정답을 device에 올리고.\n",
    "    optimizer.zero_grad() \n",
    "    output=model.forward(x)       # 학습이미지를 모델에 돌린 결과\n",
    "    loss=loss_func(output,y_)     # 결과와 정답을 loss function에 넣고 loss를 추출\n",
    "    loss.backward()               # 추출된 loss를 통해 역전파\n",
    "    optimizer.step()              # 역전파를 했다면 optimizer.step()를 통해 파라미터를 이동\n",
    "    \n",
    "    if j%1000==0:\n",
    "      print(loss)\n",
    "      loss_arr.append(loss.cpu().detach().numpy())"
   ]
  },
  {
   "cell_type": "markdown",
   "metadata": {
    "id": "Z0XBGIpgDvMK"
   },
   "source": [
    "## 손실 시각화 "
   ]
  },
  {
   "cell_type": "code",
   "execution_count": 25,
   "metadata": {
    "ExecuteTime": {
     "end_time": "2022-03-08T16:34:30.084462Z",
     "start_time": "2022-03-08T16:34:29.852412Z"
    },
    "colab": {
     "base_uri": "https://localhost:8080/",
     "height": 265
    },
    "id": "8mJdMonFDu9a",
    "outputId": "721f2239-c5d3-4f67-8f1d-b4e7a1fcaed2"
   },
   "outputs": [
    {
     "data": {
      "image/png": "[encoded data removed]",
      "text/plain": [
       "<Figure size 432x288 with 1 Axes>"
      ]
     },
     "metadata": {
      "needs_background": "light"
     },
     "output_type": "display_data"
    }
   ],
   "source": [
    "plt.plot(loss_arr)\n",
    "plt.show()"
   ]
  },
  {
   "cell_type": "markdown",
   "metadata": {
    "id": "YJNZDgOpDpTI"
   },
   "source": [
    "## 테스트하기 "
   ]
  },
  {
   "cell_type": "code",
   "execution_count": 26,
   "metadata": {
    "ExecuteTime": {
     "end_time": "2022-03-08T16:34:39.052563Z",
     "start_time": "2022-03-08T16:34:33.614135Z"
    },
    "colab": {
     "base_uri": "https://localhost:8080/"
    },
    "id": "vHylngGCDpE0",
    "outputId": "57d0f04e-6df6-42d0-dbab-01f411e621cf",
    "scrolled": true
   },
   "outputs": [
    {
     "name": "stdout",
     "output_type": "stream",
     "text": [
      "Accuracy of Test Data: 98.72796630859375%\n"
     ]
    }
   ],
   "source": [
    "correct=0\n",
    "total=0\n",
    "\n",
    "with torch.no_grad():\n",
    "  for image,label in test_loader:\n",
    "    x=image.to(device)\n",
    "    y_=label.to(device)\n",
    "    output=model.forward(x)\n",
    "     #https://pytorch.org/docs/stable/torch.html?highlight=max#torch.max\n",
    "    _,output_index=torch.max(output,1)  #max함수는 max value와 max value의 index를 도출합니다. 두 번째 인자 1은 결과의 dimension을 의미합니다. \n",
    "\n",
    "    total+=label.size(0)\n",
    "\n",
    "    correct += (output_index==y_).sum().float()\n",
    "\n",
    "print(\"Accuracy of Test Data: {}%\".format(100*correct/total))"
   ]
  },
  {
   "cell_type": "markdown",
   "metadata": {
    "id": "JBlt08K_RDe1"
   },
   "source": [
    "위처럼 동일 조건하에서 batchnormalization과 dropout을 추가해본 경우 다음과 같은 결과를 확인할 수 있다.\n",
    "- train loss가 더 빨리 감소 = 학습이 빠르게 진행되는 것\n",
    "- test acc가 0.1% 가량 오른 것"
   ]
  },
  {
   "cell_type": "code",
   "execution_count": null,
   "metadata": {},
   "outputs": [],
   "source": []
  }
 ],
 "metadata": {
  "accelerator": "GPU",
  "colab": {
   "collapsed_sections": [],
   "name": "CNN 제 1강.ipynb",
   "provenance": [],
   "toc_visible": true
  },
  "hide_input": false,
  "kernelspec": {
   "display_name": "Python 3",
   "language": "python",
   "name": "python3"
  },
  "language_info": {
   "codemirror_mode": {
    "name": "ipython",
    "version": 3
   },
   "file_extension": ".py",
   "mimetype": "text/x-python",
   "name": "python",
   "nbconvert_exporter": "python",
   "pygments_lexer": "ipython3",
   "version": "3.8.10"
  },
  "toc": {
   "base_numbering": 1,
   "nav_menu": {},
   "number_sections": true,
   "sideBar": true,
   "skip_h1_title": false,
   "title_cell": "Table of Contents",
   "title_sidebar": "Contents",
   "toc_cell": false,
   "toc_position": {},
   "toc_section_display": true,
   "toc_window_display": false
  },
  "varInspector": {
   "cols": {
    "lenName": 16,
    "lenType": 16,
    "lenVar": 40
   },
   "kernels_config": {
    "python": {
     "delete_cmd_postfix": "",
     "delete_cmd_prefix": "del ",
     "library": "var_list.py",
     "varRefreshCmd": "print(var_dic_list())"
    },
    "r": {
     "delete_cmd_postfix": ") ",
     "delete_cmd_prefix": "rm(",
     "library": "var_list.r",
     "varRefreshCmd": "cat(var_dic_list()) "
    }
   },
   "types_to_exclude": [
    "module",
    "function",
    "builtin_function_or_method",
    "instance",
    "_Feature"
   ],
   "window_display": false
  }
 },
 "nbformat": 4,
 "nbformat_minor": 1
}
